{
 "cells": [
  {
   "cell_type": "markdown",
   "metadata": {},
   "source": [
    "## List Comprehensions"
   ]
  },
  {
   "cell_type": "code",
   "execution_count": 2,
   "metadata": {},
   "outputs": [
    {
     "name": "stdout",
     "output_type": "stream",
     "text": [
      "1\n",
      "1\n",
      "2\n",
      "3\n"
     ]
    }
   ],
   "source": [
    "x=int(input())\n",
    "y=int(input())\n",
    "z=int(input())\n",
    "n=int(input())"
   ]
  },
  {
   "cell_type": "code",
   "execution_count": 3,
   "metadata": {},
   "outputs": [],
   "source": [
    "l1=[]\n",
    "for i in range(x+1):\n",
    "    for j in range(y+1):\n",
    "        for k in range(z+1):\n",
    "            l1.xappend([i,j,k])\n",
    "            "
   ]
  },
  {
   "cell_type": "code",
   "execution_count": 5,
   "metadata": {},
   "outputs": [
    {
     "name": "stdout",
     "output_type": "stream",
     "text": [
      "[0, 0, 0]\n",
      "[0, 0, 1]\n",
      "[0, 0, 2]\n",
      "[0, 1, 0]\n",
      "[0, 1, 1]\n",
      "[1, 0, 0]\n",
      "[1, 0, 1]\n",
      "[1, 1, 0]\n",
      "[1, 1, 2]\n"
     ]
    }
   ],
   "source": [
    "for m in l1:\n",
    "    if sum(m)!=3:\n",
    "        print(m)\n",
    "    else:\n",
    "        pass"
   ]
  },
  {
   "cell_type": "markdown",
   "metadata": {},
   "source": [
    "# find the runner_up score"
   ]
  },
  {
   "cell_type": "code",
   "execution_count": 11,
   "metadata": {},
   "outputs": [
    {
     "name": "stdout",
     "output_type": "stream",
     "text": [
      "3\n",
      "4\n",
      "5\n",
      "3\n"
     ]
    }
   ],
   "source": [
    "l2=[]\n",
    "n=int(input())\n",
    "if (n>2) and (n<10):\n",
    "    for i in range(n):\n",
    "        i=int(input())\n",
    "        if (i>-100) and (i<100):\n",
    "            l2.append(i)\n",
    "    "
   ]
  },
  {
   "cell_type": "code",
   "execution_count": 12,
   "metadata": {},
   "outputs": [
    {
     "name": "stdout",
     "output_type": "stream",
     "text": [
      "4\n"
     ]
    }
   ],
   "source": [
    "set1=set(l2)\n",
    "print(list(set1)[-2])"
   ]
  },
  {
   "cell_type": "markdown",
   "metadata": {},
   "source": [
    "# nested lists"
   ]
  },
  {
   "cell_type": "code",
   "execution_count": 26,
   "metadata": {},
   "outputs": [
    {
     "name": "stdout",
     "output_type": "stream",
     "text": [
      "3\n",
      "alpha\n",
      "4\n",
      "beta\n",
      "3\n",
      "beta\n",
      "3\n"
     ]
    }
   ],
   "source": [
    "l3=[]\n",
    "n=int(input())\n",
    "if (n>2) and (n<10):\n",
    "    for i in range(n):\n",
    "        name=input()\n",
    "        grade=int(input())\n",
    "        l3.append([name,grade])\n",
    "    "
   ]
  },
  {
   "cell_type": "code",
   "execution_count": 27,
   "metadata": {},
   "outputs": [
    {
     "name": "stdout",
     "output_type": "stream",
     "text": [
      "beta\n",
      "beta\n"
     ]
    }
   ],
   "source": [
    "for i in l3:\n",
    "    if sorted(l3)[1][1]==i[1]:\n",
    "        print(i[0])"
   ]
  },
  {
   "cell_type": "markdown",
   "metadata": {},
   "source": [
    "# finding the percentage"
   ]
  },
  {
   "cell_type": "code",
   "execution_count": 31,
   "metadata": {},
   "outputs": [
    {
     "name": "stdout",
     "output_type": "stream",
     "text": [
      "2\n",
      "apple\n",
      "[50,10,60]\n",
      "windows\n",
      "[60,20,70]\n"
     ]
    }
   ],
   "source": [
    "dict1={}\n",
    "n=int(input())\n",
    "if (n>=2) and (n<=10):\n",
    "    for i in range(n):\n",
    "        key=input()\n",
    "        value=eval(input())\n",
    "        dict1.update({key:value})"
   ]
  },
  {
   "cell_type": "code",
   "execution_count": 34,
   "metadata": {},
   "outputs": [
    {
     "name": "stdout",
     "output_type": "stream",
     "text": [
      "apple\n",
      "40.0\n"
     ]
    }
   ],
   "source": [
    "name=input()\n",
    "for i,j in dict1.items():\n",
    "    if i==name:\n",
    "        print(sum(j)/len(j))"
   ]
  },
  {
   "cell_type": "markdown",
   "metadata": {},
   "source": [
    "# Lists"
   ]
  },
  {
   "cell_type": "code",
   "execution_count": 35,
   "metadata": {},
   "outputs": [
    {
     "name": "stdout",
     "output_type": "stream",
     "text": [
      "4\n",
      "0\n",
      "4\n"
     ]
    }
   ],
   "source": [
    "L=[]\n",
    "n=int(input())\n",
    "i=int(input())\n",
    "e=int(input())"
   ]
  },
  {
   "cell_type": "code",
   "execution_count": 37,
   "metadata": {},
   "outputs": [
    {
     "name": "stdout",
     "output_type": "stream",
     "text": [
      "insert\n",
      "append\n",
      "reverse\n",
      "print\n",
      "[4, 4]\n"
     ]
    }
   ],
   "source": [
    "for i in range(n):\n",
    "    command=input()\n",
    "    if command==\"insert\":\n",
    "        L.insert(i,e)\n",
    "    elif command==\"remove\":\n",
    "        L.remove(e)\n",
    "    elif command==\"append\":\n",
    "        L.append(e)\n",
    "    elif command==\"sort\":\n",
    "        L.sort()\n",
    "    elif command==\"pop\":\n",
    "        L.pop()\n",
    "    elif command==\"reverse\":\n",
    "        L.reverse()\n",
    "    elif command==\"print\":\n",
    "        print(L)"
   ]
  },
  {
   "cell_type": "markdown",
   "metadata": {},
   "source": [
    "# Tuples\n"
   ]
  },
  {
   "cell_type": "code",
   "execution_count": 38,
   "metadata": {},
   "outputs": [
    {
     "name": "stdout",
     "output_type": "stream",
     "text": [
      "2\n",
      "(1,2)\n",
      "-3550055125485641917\n"
     ]
    }
   ],
   "source": [
    "n=int(input())\n",
    "t=eval(input())\n",
    "if len(t)==n:\n",
    "    print(hash(t))"
   ]
  },
  {
   "cell_type": "markdown",
   "metadata": {},
   "source": [
    "# Introduction to lists"
   ]
  },
  {
   "cell_type": "code",
   "execution_count": 43,
   "metadata": {},
   "outputs": [
    {
     "name": "stdout",
     "output_type": "stream",
     "text": [
      "10\n",
      "[161 ,182 ,161 ,154 ,176 ,170, 167 ,171 ,170 ,174]\n",
      "169.375\n"
     ]
    }
   ],
   "source": [
    "n=int(input())\n",
    "t=eval(input())\n",
    "if len(t)==n:\n",
    "    print(sum(set(t))/len(set(t)))"
   ]
  },
  {
   "cell_type": "markdown",
   "metadata": {},
   "source": [
    "# No idea"
   ]
  },
  {
   "cell_type": "code",
   "execution_count": 46,
   "metadata": {},
   "outputs": [
    {
     "name": "stdout",
     "output_type": "stream",
     "text": [
      "3\n",
      "2\n"
     ]
    }
   ],
   "source": [
    "n,m=int(input()),int(input())"
   ]
  },
  {
   "cell_type": "code",
   "execution_count": 60,
   "metadata": {},
   "outputs": [
    {
     "name": "stdout",
     "output_type": "stream",
     "text": [
      "[1,3,5]\n",
      "[1,3]\n",
      "[5,7]\n",
      "1\n"
     ]
    }
   ],
   "source": [
    "array=eval(input())\n",
    "A=eval(input())\n",
    "B=eval(input())\n",
    "for i in A:\n",
    "    happy=0\n",
    "    if i in array:\n",
    "        happy=happy+1\n",
    "    else:\n",
    "        pass\n",
    "for i in B:\n",
    "    unhappy=0\n",
    "    if i in array:\n",
    "        unhappy=unhappy+1\n",
    "    else:\n",
    "        pass\n",
    "print(happy-unhappy)\n"
   ]
  },
  {
   "cell_type": "markdown",
   "metadata": {},
   "source": [
    "##### Symetric difference"
   ]
  },
  {
   "cell_type": "code",
   "execution_count": 73,
   "metadata": {},
   "outputs": [
    {
     "name": "stdout",
     "output_type": "stream",
     "text": [
      "4\n",
      "{2,4,5,9}\n",
      "4\n",
      "{2,4,11,12}\n",
      "5\n",
      "9\n",
      "11\n",
      "12\n"
     ]
    }
   ],
   "source": [
    "num1 = int(input())\n",
    "set1 = eval(input())\n",
    "num2 = int(input())\n",
    "set2 = eval(input())\n",
    "set3 = (set1.difference(set2)).union(set2.difference(set1))\n",
    "for i in sorted(list(set3)):\n",
    "        print(i)"
   ]
  },
  {
   "cell_type": "markdown",
   "metadata": {},
   "source": [
    "# set.add "
   ]
  },
  {
   "cell_type": "code",
   "execution_count": 76,
   "metadata": {},
   "outputs": [
    {
     "name": "stdout",
     "output_type": "stream",
     "text": [
      "7\n",
      "uk\n",
      "us\n",
      "uk\n",
      "india\n",
      "canada\n",
      "japan\n",
      "india\n",
      "5\n"
     ]
    }
   ],
   "source": [
    "n=int(input())\n",
    "set1=set({})\n",
    "for i in range(n):\n",
    "    name=input()\n",
    "    set1.add(name)\n",
    "print(len(set1))\n",
    "    "
   ]
  },
  {
   "cell_type": "markdown",
   "metadata": {},
   "source": [
    "#  set.discard(),remove()"
   ]
  },
  {
   "cell_type": "code",
   "execution_count": 108,
   "metadata": {},
   "outputs": [
    {
     "name": "stdout",
     "output_type": "stream",
     "text": [
      "9\n",
      "{1,2,3,4,5,6,7,8,9}\n",
      "3\n",
      "pop\n",
      "discard 9\n",
      "remove 8\n",
      "35\n",
      "{2, 3, 4, 5, 6, 7, 8}\n"
     ]
    }
   ],
   "source": [
    "n=int(input())\n",
    "set1=eval(input())\n",
    "set2=set(map(int,set1))\n",
    "for i in range(int(input())):\n",
    "    choice=input().split()\n",
    "    if choice[0]==\"pop\":\n",
    "        set2.pop()\n",
    "    elif choice[0]==\"discard\":\n",
    "        set2.discard(int(choice[1]))\n",
    "    elif choice==\"remove\":\n",
    "        set2.remove(int(choice[1]))\n",
    "print(sum(set2))\n",
    "print(set2)\n",
    "    \n"
   ]
  },
  {
   "cell_type": "markdown",
   "metadata": {},
   "source": [
    "# set union "
   ]
  },
  {
   "cell_type": "code",
   "execution_count": 110,
   "metadata": {},
   "outputs": [
    {
     "name": "stdout",
     "output_type": "stream",
     "text": [
      "6\n",
      "{1,4,5,7,3,5}\n",
      "5\n",
      "{9,8,7,5,3}\n",
      "7\n"
     ]
    }
   ],
   "source": [
    "n1=int(input())\n",
    "set1=eval(input())\n",
    "n2=int(input())\n",
    "set2=eval(input())\n",
    "set3=set1.union(set2)\n",
    "print(len(set3))"
   ]
  },
  {
   "cell_type": "markdown",
   "metadata": {},
   "source": [
    "# set Intersection"
   ]
  },
  {
   "cell_type": "code",
   "execution_count": 111,
   "metadata": {},
   "outputs": [
    {
     "name": "stdout",
     "output_type": "stream",
     "text": [
      "6\n",
      "{1,4,5,7,3,5}\n",
      "5\n",
      "{9,8,7,5,3}\n",
      "3\n"
     ]
    }
   ],
   "source": [
    "n1=int(input())\n",
    "set1=eval(input())\n",
    "n2=int(input())\n",
    "set2=eval(input())\n",
    "set3=set1.intersection(set2)\n",
    "print(len(set3))"
   ]
  },
  {
   "cell_type": "markdown",
   "metadata": {},
   "source": [
    "# set difference"
   ]
  },
  {
   "cell_type": "code",
   "execution_count": 112,
   "metadata": {},
   "outputs": [
    {
     "name": "stdout",
     "output_type": "stream",
     "text": [
      "6\n",
      "{1,4,5,7,3,5}\n",
      "5\n",
      "{9,8,7,5,3}\n",
      "2\n"
     ]
    }
   ],
   "source": [
    "n1=int(input())\n",
    "set1=eval(input())\n",
    "n2=int(input())\n",
    "set2=eval(input())\n",
    "set3=set1.difference(set2)\n",
    "print(len(set3))"
   ]
  },
  {
   "cell_type": "markdown",
   "metadata": {},
   "source": [
    "# set symetric difference"
   ]
  },
  {
   "cell_type": "code",
   "execution_count": 114,
   "metadata": {},
   "outputs": [
    {
     "name": "stdout",
     "output_type": "stream",
     "text": [
      "6\n",
      "{1,4,5,7,3,5}\n",
      "5\n",
      "{9,8,7,5,3}\n",
      "4\n"
     ]
    }
   ],
   "source": [
    "n1=int(input())\n",
    "set1=eval(input())\n",
    "n2=int(input())\n",
    "set2=eval(input())\n",
    "set3=set1.symmetric_difference(set2)\n",
    "print(len(set3))"
   ]
  },
  {
   "cell_type": "markdown",
   "metadata": {},
   "source": [
    "# Set Mutations"
   ]
  },
  {
   "cell_type": "code",
   "execution_count": 119,
   "metadata": {},
   "outputs": [
    {
     "name": "stdout",
     "output_type": "stream",
     "text": [
      "9\n",
      "{1,2,3,4,5,6,7,8,9}\n",
      "3\n",
      "intersection 3\n",
      "{1,2,3}\n",
      "difference 2\n",
      "{5,6}\n",
      "symetric_difference 3\n",
      "{5,6,7}\n",
      "45\n"
     ]
    }
   ],
   "source": [
    "n=int(input())\n",
    "A=eval(input())\n",
    "for i in range(int(input())):\n",
    "    choice=input().split()\n",
    "    if choice[0]==\"intersection\":\n",
    "        s=eval(input())\n",
    "        A.intersection(s)\n",
    "    if choice[0]==\"difference\":\n",
    "        s=eval(input())\n",
    "        A.difference(s)\n",
    "    if choice[0]==\"symetric_difference\":\n",
    "        s=eval(input())\n",
    "        A.symmetric_difference(s)\n",
    "print(sum(A))\n",
    "              \n",
    "    "
   ]
  },
  {
   "cell_type": "markdown",
   "metadata": {},
   "source": [
    "# The Capain's"
   ]
  },
  {
   "cell_type": "code",
   "execution_count": 134,
   "metadata": {},
   "outputs": [
    {
     "name": "stdout",
     "output_type": "stream",
     "text": [
      "5\n",
      "12345678912345678\n",
      "['1', '2', '3', '4', '5', '6', '7', '8', '9', '1', '2', '3', '4', '5', '6', '7', '8']\n",
      "56.25\n"
     ]
    }
   ],
   "source": [
    "K = int(input())\n",
    "roomList =list(input())\n",
    "print(roomList)\n",
    "room=map(int,roomList)\n",
    "roomSet = set(room) \n",
    "sumRoomSet = sum(roomSet) \n",
    "sumRoomList = sum(room)\n",
    "temp = sumRoomSet * K - sumRoomList \n",
    "answer = temp / (K - 1) \n",
    "print(answer)"
   ]
  },
  {
   "cell_type": "markdown",
   "metadata": {},
   "source": []
  },
  {
   "cell_type": "markdown",
   "metadata": {},
   "source": [
    "# check subset"
   ]
  },
  {
   "cell_type": "code",
   "execution_count": 139,
   "metadata": {},
   "outputs": [
    {
     "name": "stdout",
     "output_type": "stream",
     "text": [
      "1\n",
      "5\n",
      "12345\n",
      "3\n",
      "123\n",
      "True\n"
     ]
    }
   ],
   "source": [
    "\n",
    "for i in range(int(input())):\n",
    "    a = int(input()) \n",
    "    A1 = list(input())\n",
    "    A=set(map(int,A1))\n",
    "    b = int(input()); \n",
    "    B1 =list(input())\n",
    "    B=set(map(int,B1))\n",
    "    print(B.issubset(A))"
   ]
  },
  {
   "cell_type": "markdown",
   "metadata": {},
   "source": [
    "# check Strick Superset "
   ]
  },
  {
   "cell_type": "code",
   "execution_count": 141,
   "metadata": {},
   "outputs": [
    {
     "name": "stdout",
     "output_type": "stream",
     "text": [
      "87433456123\n",
      "1234\n",
      "True\n"
     ]
    }
   ],
   "source": [
    "A1 = list(input())\n",
    "A=set(map(int,A1))\n",
    "B1 =list(input())\n",
    "B=set(map(int,B1))\n",
    "print(B.issubset(A))"
   ]
  },
  {
   "cell_type": "code",
   "execution_count": null,
   "metadata": {},
   "outputs": [],
   "source": []
  }
 ],
 "metadata": {
  "kernelspec": {
   "display_name": "Python 3",
   "language": "python",
   "name": "python3"
  },
  "language_info": {
   "codemirror_mode": {
    "name": "ipython",
    "version": 3
   },
   "file_extension": ".py",
   "mimetype": "text/x-python",
   "name": "python",
   "nbconvert_exporter": "python",
   "pygments_lexer": "ipython3",
   "version": "3.8.5"
  }
 },
 "nbformat": 4,
 "nbformat_minor": 4
}
